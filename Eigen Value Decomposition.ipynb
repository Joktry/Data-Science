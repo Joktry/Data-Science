{
 "cells": [
  {
   "cell_type": "code",
   "execution_count": 23,
   "id": "ed926af1",
   "metadata": {},
   "outputs": [],
   "source": [
    "import numpy as np"
   ]
  },
  {
   "cell_type": "code",
   "execution_count": 24,
   "id": "92e5db66",
   "metadata": {},
   "outputs": [],
   "source": [
    "import pandas as pd"
   ]
  },
  {
   "cell_type": "code",
   "execution_count": 25,
   "id": "28f66d7b",
   "metadata": {},
   "outputs": [],
   "source": [
    "arr=np.array([[2,2,-2],[2,-1,4],[-2,4,-1]])"
   ]
  },
  {
   "cell_type": "code",
   "execution_count": 26,
   "id": "c21ea87f",
   "metadata": {},
   "outputs": [
    {
     "data": {
      "text/plain": [
       "array([[ 2,  2, -2],\n",
       "       [ 2, -1,  4],\n",
       "       [-2,  4, -1]])"
      ]
     },
     "execution_count": 26,
     "metadata": {},
     "output_type": "execute_result"
    }
   ],
   "source": [
    "arr"
   ]
  },
  {
   "cell_type": "code",
   "execution_count": 27,
   "id": "2ca08903",
   "metadata": {},
   "outputs": [
    {
     "data": {
      "text/plain": [
       "array([ 3., -6.,  3.])"
      ]
     },
     "execution_count": 27,
     "metadata": {},
     "output_type": "execute_result"
    }
   ],
   "source": [
    "eigenvalues=np.linalg.eigvals(arr)\n",
    "eigenvalues"
   ]
  },
  {
   "cell_type": "code",
   "execution_count": 41,
   "id": "451b1aa5",
   "metadata": {},
   "outputs": [],
   "source": [
    "ev,evector=np.linalg.eigh(arr)"
   ]
  },
  {
   "cell_type": "code",
   "execution_count": 42,
   "id": "1ac601e2",
   "metadata": {},
   "outputs": [
    {
     "data": {
      "text/plain": [
       "array([-6.,  3.,  3.])"
      ]
     },
     "execution_count": 42,
     "metadata": {},
     "output_type": "execute_result"
    }
   ],
   "source": [
    "ev"
   ]
  },
  {
   "cell_type": "code",
   "execution_count": 43,
   "id": "6a08f0b4",
   "metadata": {},
   "outputs": [],
   "source": [
    "evector=evector"
   ]
  },
  {
   "cell_type": "code",
   "execution_count": 44,
   "id": "17335162",
   "metadata": {},
   "outputs": [],
   "source": [
    "p=evector"
   ]
  },
  {
   "cell_type": "code",
   "execution_count": 45,
   "id": "54ba9b4f",
   "metadata": {},
   "outputs": [],
   "source": [
    "p_1=np.linalg.inv(p)\n"
   ]
  },
  {
   "cell_type": "code",
   "execution_count": 46,
   "id": "5057e3ce",
   "metadata": {},
   "outputs": [],
   "source": [
    "a=np.dot(p_1,arr)"
   ]
  },
  {
   "cell_type": "code",
   "execution_count": 47,
   "id": "bdf6776b",
   "metadata": {},
   "outputs": [],
   "source": [
    "answer=np.dot(a,p)"
   ]
  },
  {
   "cell_type": "code",
   "execution_count": 48,
   "id": "73f469db",
   "metadata": {},
   "outputs": [
    {
     "data": {
      "text/plain": [
       "array([[-6.00000000e+00,  0.00000000e+00,  0.00000000e+00],\n",
       "       [-8.88178420e-16,  3.00000000e+00,  0.00000000e+00],\n",
       "       [-2.22044605e-15,  1.11022302e-16,  3.00000000e+00]])"
      ]
     },
     "execution_count": 48,
     "metadata": {},
     "output_type": "execute_result"
    }
   ],
   "source": [
    "answer"
   ]
  },
  {
   "cell_type": "code",
   "execution_count": 49,
   "id": "e7c07075",
   "metadata": {},
   "outputs": [
    {
     "data": {
      "text/plain": [
       "array([[-6.,  0.,  0.],\n",
       "       [-0.,  3.,  0.],\n",
       "       [-0.,  0.,  3.]])"
      ]
     },
     "execution_count": 49,
     "metadata": {},
     "output_type": "execute_result"
    }
   ],
   "source": [
    "np.round_(answer,2)"
   ]
  },
  {
   "cell_type": "code",
   "execution_count": null,
   "id": "b0f230f9",
   "metadata": {},
   "outputs": [],
   "source": []
  }
 ],
 "metadata": {
  "kernelspec": {
   "display_name": "Python 3 (ipykernel)",
   "language": "python",
   "name": "python3"
  },
  "language_info": {
   "codemirror_mode": {
    "name": "ipython",
    "version": 3
   },
   "file_extension": ".py",
   "mimetype": "text/x-python",
   "name": "python",
   "nbconvert_exporter": "python",
   "pygments_lexer": "ipython3",
   "version": "3.10.9"
  }
 },
 "nbformat": 4,
 "nbformat_minor": 5
}
